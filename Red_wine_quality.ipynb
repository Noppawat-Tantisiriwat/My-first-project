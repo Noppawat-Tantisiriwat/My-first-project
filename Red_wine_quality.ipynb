{
  "nbformat": 4,
  "nbformat_minor": 0,
  "metadata": {
    "colab": {
      "name": "Red_wine_quality.ipynb",
      "provenance": [],
      "authorship_tag": "ABX9TyMsGCCQUvOG0isxj0A0THjx",
      "include_colab_link": true
    },
    "kernelspec": {
      "name": "python3",
      "display_name": "Python 3"
    }
  },
  "cells": [
    {
      "cell_type": "markdown",
      "metadata": {
        "id": "view-in-github",
        "colab_type": "text"
      },
      "source": [
        "<a href=\"https://colab.research.google.com/github/Noppawat-Tantisiriwat/My-first-project/blob/master/Red_wine_quality.ipynb\" target=\"_parent\"><img src=\"https://colab.research.google.com/assets/colab-badge.svg\" alt=\"Open In Colab\"/></a>"
      ]
    },
    {
      "cell_type": "code",
      "metadata": {
        "id": "IcW9D_Pw9_gh",
        "colab_type": "code",
        "colab": {
          "base_uri": "https://localhost:8080/",
          "height": 102
        },
        "outputId": "0fa2954e-6a1b-4fbb-e11e-bfe49133cbfc"
      },
      "source": [
        "!pip install sklearn"
      ],
      "execution_count": null,
      "outputs": [
        {
          "output_type": "stream",
          "text": [
            "Requirement already satisfied: sklearn in /usr/local/lib/python3.6/dist-packages (0.0)\n",
            "Requirement already satisfied: scikit-learn in /usr/local/lib/python3.6/dist-packages (from sklearn) (0.22.2.post1)\n",
            "Requirement already satisfied: scipy>=0.17.0 in /usr/local/lib/python3.6/dist-packages (from scikit-learn->sklearn) (1.4.1)\n",
            "Requirement already satisfied: numpy>=1.11.0 in /usr/local/lib/python3.6/dist-packages (from scikit-learn->sklearn) (1.18.5)\n",
            "Requirement already satisfied: joblib>=0.11 in /usr/local/lib/python3.6/dist-packages (from scikit-learn->sklearn) (0.15.1)\n"
          ],
          "name": "stdout"
        }
      ]
    },
    {
      "cell_type": "code",
      "metadata": {
        "id": "ay0DBnAU-E8Z",
        "colab_type": "code",
        "colab": {}
      },
      "source": [
        "import pandas as pd\n",
        "import numpy as np\n",
        "from sklearn.neighbors import KNeighborsClassifier\n",
        "from sklearn.metrics import accuracy_score\n",
        "from sklearn.model_selection import train_test_split\n",
        "from sklearn.preprocessing import MinMaxScaler"
      ],
      "execution_count": null,
      "outputs": []
    },
    {
      "cell_type": "code",
      "metadata": {
        "id": "OHTmVDTh-J6W",
        "colab_type": "code",
        "colab": {
          "base_uri": "https://localhost:8080/",
          "height": 34
        },
        "outputId": "c371f08d-c8ff-46f8-da47-00f35dd0d239"
      },
      "source": [
        "from google.colab import drive\n",
        "drive.mount('/content/gdrive')"
      ],
      "execution_count": null,
      "outputs": [
        {
          "output_type": "stream",
          "text": [
            "Drive already mounted at /content/gdrive; to attempt to forcibly remount, call drive.mount(\"/content/gdrive\", force_remount=True).\n"
          ],
          "name": "stdout"
        }
      ]
    },
    {
      "cell_type": "code",
      "metadata": {
        "id": "BV4Azorx-e4Y",
        "colab_type": "code",
        "colab": {}
      },
      "source": [
        "import os\n",
        "os.environ['KAGGLE_CONFIG_DIR'] = \"/content/gdrive/My Drive/Kaggle\""
      ],
      "execution_count": null,
      "outputs": []
    },
    {
      "cell_type": "code",
      "metadata": {
        "id": "okTqbUjx-2tg",
        "colab_type": "code",
        "colab": {
          "base_uri": "https://localhost:8080/",
          "height": 34
        },
        "outputId": "544e5913-f76a-4e92-f741-9cad2dfbaa1a"
      },
      "source": [
        "%cd /content/gdrive/My Drive/Kaggle"
      ],
      "execution_count": null,
      "outputs": [
        {
          "output_type": "stream",
          "text": [
            "/content/gdrive/My Drive/Kaggle\n"
          ],
          "name": "stdout"
        }
      ]
    },
    {
      "cell_type": "code",
      "metadata": {
        "id": "UB-EZV1z-7zV",
        "colab_type": "code",
        "colab": {
          "base_uri": "https://localhost:8080/",
          "height": 68
        },
        "outputId": "9d6aee64-b39a-4306-af21-c1651170f7ff"
      },
      "source": [
        "!kaggle datasets download -d uciml/red-wine-quality-cortez-et-al-2009"
      ],
      "execution_count": null,
      "outputs": [
        {
          "output_type": "stream",
          "text": [
            "Downloading red-wine-quality-cortez-et-al-2009.zip to /content/gdrive/My Drive/Kaggle\n",
            "\r  0% 0.00/25.6k [00:00<?, ?B/s]\n",
            "\r100% 25.6k/25.6k [00:00<00:00, 3.56MB/s]\n"
          ],
          "name": "stdout"
        }
      ]
    },
    {
      "cell_type": "code",
      "metadata": {
        "id": "GOsRy3yB_FFd",
        "colab_type": "code",
        "colab": {
          "base_uri": "https://localhost:8080/",
          "height": 221
        },
        "outputId": "b5eb51ff-7246-4c70-e253-e550e942d6b1"
      },
      "source": [
        "!ls"
      ],
      "execution_count": null,
      "outputs": [
        {
          "output_type": "stream",
          "text": [
            "CA_category_id.json  kaggle.json\n",
            "CAvideos.csv\t     KR_category_id.json\n",
            "DE_category_id.json  KRvideos.csv\n",
            "DEvideos.csv\t     MX_category_id.json\n",
            "FR_category_id.json  MXvideos.csv\n",
            "FRvideos.csv\t     red-wine-quality-cortez-et-al-2009.zip\n",
            "GB_category_id.json  RU_category_id.json\n",
            "GBvideos.csv\t     RUvideos.csv\n",
            "IN_category_id.json  US_category_id.json\n",
            "INvideos.csv\t     USvideos.csv\n",
            "JP_category_id.json  winequality-red.csv\n",
            "JPvideos.csv\n"
          ],
          "name": "stdout"
        }
      ]
    },
    {
      "cell_type": "code",
      "metadata": {
        "id": "XdljTC4H_eNo",
        "colab_type": "code",
        "colab": {
          "base_uri": "https://localhost:8080/",
          "height": 68
        },
        "outputId": "31b6344b-301b-425f-a5d2-854ab2de40e2"
      },
      "source": [
        "!unzip \\*.zip  && rm *.zip"
      ],
      "execution_count": null,
      "outputs": [
        {
          "output_type": "stream",
          "text": [
            "Archive:  red-wine-quality-cortez-et-al-2009.zip\n",
            "replace winequality-red.csv? [y]es, [n]o, [A]ll, [N]one, [r]ename: y\n",
            "  inflating: winequality-red.csv     \n"
          ],
          "name": "stdout"
        }
      ]
    },
    {
      "cell_type": "code",
      "metadata": {
        "id": "VozbuUETAHqf",
        "colab_type": "code",
        "colab": {
          "base_uri": "https://localhost:8080/",
          "height": 918
        },
        "outputId": "7c75ffbd-bea6-4634-e508-24243c0b14a2"
      },
      "source": [
        "df_rw = pd.read_csv(\"winequality-red.csv\")\n",
        "df_rw, df_rw.head(), df_rw.info(), df_rw.describe()"
      ],
      "execution_count": null,
      "outputs": [
        {
          "output_type": "stream",
          "text": [
            "<class 'pandas.core.frame.DataFrame'>\n",
            "RangeIndex: 1599 entries, 0 to 1598\n",
            "Data columns (total 12 columns):\n",
            " #   Column                Non-Null Count  Dtype  \n",
            "---  ------                --------------  -----  \n",
            " 0   fixed acidity         1599 non-null   float64\n",
            " 1   volatile acidity      1599 non-null   float64\n",
            " 2   citric acid           1599 non-null   float64\n",
            " 3   residual sugar        1599 non-null   float64\n",
            " 4   chlorides             1599 non-null   float64\n",
            " 5   free sulfur dioxide   1599 non-null   float64\n",
            " 6   total sulfur dioxide  1599 non-null   float64\n",
            " 7   density               1599 non-null   float64\n",
            " 8   pH                    1599 non-null   float64\n",
            " 9   sulphates             1599 non-null   float64\n",
            " 10  alcohol               1599 non-null   float64\n",
            " 11  quality               1599 non-null   int64  \n",
            "dtypes: float64(11), int64(1)\n",
            "memory usage: 150.0 KB\n"
          ],
          "name": "stdout"
        },
        {
          "output_type": "execute_result",
          "data": {
            "text/plain": [
              "(      fixed acidity  volatile acidity  citric acid  ...  sulphates  alcohol  quality\n",
              " 0               7.4             0.700         0.00  ...       0.56      9.4        5\n",
              " 1               7.8             0.880         0.00  ...       0.68      9.8        5\n",
              " 2               7.8             0.760         0.04  ...       0.65      9.8        5\n",
              " 3              11.2             0.280         0.56  ...       0.58      9.8        6\n",
              " 4               7.4             0.700         0.00  ...       0.56      9.4        5\n",
              " ...             ...               ...          ...  ...        ...      ...      ...\n",
              " 1594            6.2             0.600         0.08  ...       0.58     10.5        5\n",
              " 1595            5.9             0.550         0.10  ...       0.76     11.2        6\n",
              " 1596            6.3             0.510         0.13  ...       0.75     11.0        6\n",
              " 1597            5.9             0.645         0.12  ...       0.71     10.2        5\n",
              " 1598            6.0             0.310         0.47  ...       0.66     11.0        6\n",
              " \n",
              " [1599 rows x 12 columns],\n",
              "    fixed acidity  volatile acidity  citric acid  ...  sulphates  alcohol  quality\n",
              " 0            7.4              0.70         0.00  ...       0.56      9.4        5\n",
              " 1            7.8              0.88         0.00  ...       0.68      9.8        5\n",
              " 2            7.8              0.76         0.04  ...       0.65      9.8        5\n",
              " 3           11.2              0.28         0.56  ...       0.58      9.8        6\n",
              " 4            7.4              0.70         0.00  ...       0.56      9.4        5\n",
              " \n",
              " [5 rows x 12 columns],\n",
              " None,\n",
              "        fixed acidity  volatile acidity  ...      alcohol      quality\n",
              " count    1599.000000       1599.000000  ...  1599.000000  1599.000000\n",
              " mean        8.319637          0.527821  ...    10.422983     5.636023\n",
              " std         1.741096          0.179060  ...     1.065668     0.807569\n",
              " min         4.600000          0.120000  ...     8.400000     3.000000\n",
              " 25%         7.100000          0.390000  ...     9.500000     5.000000\n",
              " 50%         7.900000          0.520000  ...    10.200000     6.000000\n",
              " 75%         9.200000          0.640000  ...    11.100000     6.000000\n",
              " max        15.900000          1.580000  ...    14.900000     8.000000\n",
              " \n",
              " [8 rows x 12 columns])"
            ]
          },
          "metadata": {
            "tags": []
          },
          "execution_count": 81
        }
      ]
    },
    {
      "cell_type": "code",
      "metadata": {
        "id": "PqkzQu3z1AcW",
        "colab_type": "code",
        "colab": {
          "base_uri": "https://localhost:8080/",
          "height": 85
        },
        "outputId": "ed3e97aa-7f97-468f-da20-330292543aab"
      },
      "source": [
        "df_rw.columns"
      ],
      "execution_count": null,
      "outputs": [
        {
          "output_type": "execute_result",
          "data": {
            "text/plain": [
              "Index(['fixed acidity', 'volatile acidity', 'citric acid', 'residual sugar',\n",
              "       'chlorides', 'free sulfur dioxide', 'total sulfur dioxide', 'density',\n",
              "       'pH', 'sulphates', 'alcohol', 'quality'],\n",
              "      dtype='object')"
            ]
          },
          "metadata": {
            "tags": []
          },
          "execution_count": 82
        }
      ]
    },
    {
      "cell_type": "code",
      "metadata": {
        "id": "Tqfv6uvwdKoI",
        "colab_type": "code",
        "colab": {}
      },
      "source": [
        "model = KNeighborsClassifier(n_neighbors=3)"
      ],
      "execution_count": null,
      "outputs": []
    },
    {
      "cell_type": "code",
      "metadata": {
        "id": "PDny5aHpx8j-",
        "colab_type": "code",
        "colab": {
          "base_uri": "https://localhost:8080/",
          "height": 442
        },
        "outputId": "f72fae3e-d504-498e-a9ba-44a1843024a9"
      },
      "source": [
        "X = df_rw.drop(\"quality\", axis=1)\n",
        "y = df_rw[\"quality\"]\n",
        "X,y"
      ],
      "execution_count": null,
      "outputs": [
        {
          "output_type": "execute_result",
          "data": {
            "text/plain": [
              "(      fixed acidity  volatile acidity  citric acid  ...    pH  sulphates  alcohol\n",
              " 0               7.4             0.700         0.00  ...  3.51       0.56      9.4\n",
              " 1               7.8             0.880         0.00  ...  3.20       0.68      9.8\n",
              " 2               7.8             0.760         0.04  ...  3.26       0.65      9.8\n",
              " 3              11.2             0.280         0.56  ...  3.16       0.58      9.8\n",
              " 4               7.4             0.700         0.00  ...  3.51       0.56      9.4\n",
              " ...             ...               ...          ...  ...   ...        ...      ...\n",
              " 1594            6.2             0.600         0.08  ...  3.45       0.58     10.5\n",
              " 1595            5.9             0.550         0.10  ...  3.52       0.76     11.2\n",
              " 1596            6.3             0.510         0.13  ...  3.42       0.75     11.0\n",
              " 1597            5.9             0.645         0.12  ...  3.57       0.71     10.2\n",
              " 1598            6.0             0.310         0.47  ...  3.39       0.66     11.0\n",
              " \n",
              " [1599 rows x 11 columns], 0       5\n",
              " 1       5\n",
              " 2       5\n",
              " 3       6\n",
              " 4       5\n",
              "        ..\n",
              " 1594    5\n",
              " 1595    6\n",
              " 1596    6\n",
              " 1597    5\n",
              " 1598    6\n",
              " Name: quality, Length: 1599, dtype: int64)"
            ]
          },
          "metadata": {
            "tags": []
          },
          "execution_count": 109
        }
      ]
    },
    {
      "cell_type": "code",
      "metadata": {
        "id": "R-1rQIr0yhTh",
        "colab_type": "code",
        "colab": {
          "base_uri": "https://localhost:8080/",
          "height": 419
        },
        "outputId": "59987eba-3a7e-4507-cab7-d9a9a18e78ef"
      },
      "source": [
        "X_np = X.values\n",
        "X_np_scaled = MinMaxScaler().fit_transform(X_np)\n",
        "X_scaled = pd.DataFrame(X_np_scaled)\n",
        "X_scaled"
      ],
      "execution_count": null,
      "outputs": [
        {
          "output_type": "execute_result",
          "data": {
            "text/html": [
              "<div>\n",
              "<style scoped>\n",
              "    .dataframe tbody tr th:only-of-type {\n",
              "        vertical-align: middle;\n",
              "    }\n",
              "\n",
              "    .dataframe tbody tr th {\n",
              "        vertical-align: top;\n",
              "    }\n",
              "\n",
              "    .dataframe thead th {\n",
              "        text-align: right;\n",
              "    }\n",
              "</style>\n",
              "<table border=\"1\" class=\"dataframe\">\n",
              "  <thead>\n",
              "    <tr style=\"text-align: right;\">\n",
              "      <th></th>\n",
              "      <th>0</th>\n",
              "      <th>1</th>\n",
              "      <th>2</th>\n",
              "      <th>3</th>\n",
              "      <th>4</th>\n",
              "      <th>5</th>\n",
              "      <th>6</th>\n",
              "      <th>7</th>\n",
              "      <th>8</th>\n",
              "      <th>9</th>\n",
              "      <th>10</th>\n",
              "    </tr>\n",
              "  </thead>\n",
              "  <tbody>\n",
              "    <tr>\n",
              "      <th>0</th>\n",
              "      <td>0.247788</td>\n",
              "      <td>0.397260</td>\n",
              "      <td>0.00</td>\n",
              "      <td>0.068493</td>\n",
              "      <td>0.106845</td>\n",
              "      <td>0.140845</td>\n",
              "      <td>0.098940</td>\n",
              "      <td>0.567548</td>\n",
              "      <td>0.606299</td>\n",
              "      <td>0.137725</td>\n",
              "      <td>0.153846</td>\n",
              "    </tr>\n",
              "    <tr>\n",
              "      <th>1</th>\n",
              "      <td>0.283186</td>\n",
              "      <td>0.520548</td>\n",
              "      <td>0.00</td>\n",
              "      <td>0.116438</td>\n",
              "      <td>0.143573</td>\n",
              "      <td>0.338028</td>\n",
              "      <td>0.215548</td>\n",
              "      <td>0.494126</td>\n",
              "      <td>0.362205</td>\n",
              "      <td>0.209581</td>\n",
              "      <td>0.215385</td>\n",
              "    </tr>\n",
              "    <tr>\n",
              "      <th>2</th>\n",
              "      <td>0.283186</td>\n",
              "      <td>0.438356</td>\n",
              "      <td>0.04</td>\n",
              "      <td>0.095890</td>\n",
              "      <td>0.133556</td>\n",
              "      <td>0.197183</td>\n",
              "      <td>0.169611</td>\n",
              "      <td>0.508811</td>\n",
              "      <td>0.409449</td>\n",
              "      <td>0.191617</td>\n",
              "      <td>0.215385</td>\n",
              "    </tr>\n",
              "    <tr>\n",
              "      <th>3</th>\n",
              "      <td>0.584071</td>\n",
              "      <td>0.109589</td>\n",
              "      <td>0.56</td>\n",
              "      <td>0.068493</td>\n",
              "      <td>0.105175</td>\n",
              "      <td>0.225352</td>\n",
              "      <td>0.190813</td>\n",
              "      <td>0.582232</td>\n",
              "      <td>0.330709</td>\n",
              "      <td>0.149701</td>\n",
              "      <td>0.215385</td>\n",
              "    </tr>\n",
              "    <tr>\n",
              "      <th>4</th>\n",
              "      <td>0.247788</td>\n",
              "      <td>0.397260</td>\n",
              "      <td>0.00</td>\n",
              "      <td>0.068493</td>\n",
              "      <td>0.106845</td>\n",
              "      <td>0.140845</td>\n",
              "      <td>0.098940</td>\n",
              "      <td>0.567548</td>\n",
              "      <td>0.606299</td>\n",
              "      <td>0.137725</td>\n",
              "      <td>0.153846</td>\n",
              "    </tr>\n",
              "    <tr>\n",
              "      <th>...</th>\n",
              "      <td>...</td>\n",
              "      <td>...</td>\n",
              "      <td>...</td>\n",
              "      <td>...</td>\n",
              "      <td>...</td>\n",
              "      <td>...</td>\n",
              "      <td>...</td>\n",
              "      <td>...</td>\n",
              "      <td>...</td>\n",
              "      <td>...</td>\n",
              "      <td>...</td>\n",
              "    </tr>\n",
              "    <tr>\n",
              "      <th>1594</th>\n",
              "      <td>0.141593</td>\n",
              "      <td>0.328767</td>\n",
              "      <td>0.08</td>\n",
              "      <td>0.075342</td>\n",
              "      <td>0.130217</td>\n",
              "      <td>0.436620</td>\n",
              "      <td>0.134276</td>\n",
              "      <td>0.354626</td>\n",
              "      <td>0.559055</td>\n",
              "      <td>0.149701</td>\n",
              "      <td>0.323077</td>\n",
              "    </tr>\n",
              "    <tr>\n",
              "      <th>1595</th>\n",
              "      <td>0.115044</td>\n",
              "      <td>0.294521</td>\n",
              "      <td>0.10</td>\n",
              "      <td>0.089041</td>\n",
              "      <td>0.083472</td>\n",
              "      <td>0.535211</td>\n",
              "      <td>0.159011</td>\n",
              "      <td>0.370778</td>\n",
              "      <td>0.614173</td>\n",
              "      <td>0.257485</td>\n",
              "      <td>0.430769</td>\n",
              "    </tr>\n",
              "    <tr>\n",
              "      <th>1596</th>\n",
              "      <td>0.150442</td>\n",
              "      <td>0.267123</td>\n",
              "      <td>0.13</td>\n",
              "      <td>0.095890</td>\n",
              "      <td>0.106845</td>\n",
              "      <td>0.394366</td>\n",
              "      <td>0.120141</td>\n",
              "      <td>0.416300</td>\n",
              "      <td>0.535433</td>\n",
              "      <td>0.251497</td>\n",
              "      <td>0.400000</td>\n",
              "    </tr>\n",
              "    <tr>\n",
              "      <th>1597</th>\n",
              "      <td>0.115044</td>\n",
              "      <td>0.359589</td>\n",
              "      <td>0.12</td>\n",
              "      <td>0.075342</td>\n",
              "      <td>0.105175</td>\n",
              "      <td>0.436620</td>\n",
              "      <td>0.134276</td>\n",
              "      <td>0.396476</td>\n",
              "      <td>0.653543</td>\n",
              "      <td>0.227545</td>\n",
              "      <td>0.276923</td>\n",
              "    </tr>\n",
              "    <tr>\n",
              "      <th>1598</th>\n",
              "      <td>0.123894</td>\n",
              "      <td>0.130137</td>\n",
              "      <td>0.47</td>\n",
              "      <td>0.184932</td>\n",
              "      <td>0.091820</td>\n",
              "      <td>0.239437</td>\n",
              "      <td>0.127208</td>\n",
              "      <td>0.397944</td>\n",
              "      <td>0.511811</td>\n",
              "      <td>0.197605</td>\n",
              "      <td>0.400000</td>\n",
              "    </tr>\n",
              "  </tbody>\n",
              "</table>\n",
              "<p>1599 rows × 11 columns</p>\n",
              "</div>"
            ],
            "text/plain": [
              "            0         1     2   ...        8         9         10\n",
              "0     0.247788  0.397260  0.00  ...  0.606299  0.137725  0.153846\n",
              "1     0.283186  0.520548  0.00  ...  0.362205  0.209581  0.215385\n",
              "2     0.283186  0.438356  0.04  ...  0.409449  0.191617  0.215385\n",
              "3     0.584071  0.109589  0.56  ...  0.330709  0.149701  0.215385\n",
              "4     0.247788  0.397260  0.00  ...  0.606299  0.137725  0.153846\n",
              "...        ...       ...   ...  ...       ...       ...       ...\n",
              "1594  0.141593  0.328767  0.08  ...  0.559055  0.149701  0.323077\n",
              "1595  0.115044  0.294521  0.10  ...  0.614173  0.257485  0.430769\n",
              "1596  0.150442  0.267123  0.13  ...  0.535433  0.251497  0.400000\n",
              "1597  0.115044  0.359589  0.12  ...  0.653543  0.227545  0.276923\n",
              "1598  0.123894  0.130137  0.47  ...  0.511811  0.197605  0.400000\n",
              "\n",
              "[1599 rows x 11 columns]"
            ]
          },
          "metadata": {
            "tags": []
          },
          "execution_count": 111
        }
      ]
    },
    {
      "cell_type": "code",
      "metadata": {
        "id": "R1ezJdHD0yOg",
        "colab_type": "code",
        "colab": {
          "base_uri": "https://localhost:8080/",
          "height": 436
        },
        "outputId": "c14ad7c0-673a-4f95-f9e9-0252695aec17"
      },
      "source": [
        "X_scaled.columns = ['fixed acidity', 'volatile acidity', 'citric acid', 'residual sugar',\n",
        "       'chlorides', 'free sulfur dioxide', 'total sulfur dioxide', 'density',\n",
        "       'pH', 'sulphates', 'alcohol']\n",
        "X_scaled"
      ],
      "execution_count": null,
      "outputs": [
        {
          "output_type": "execute_result",
          "data": {
            "text/html": [
              "<div>\n",
              "<style scoped>\n",
              "    .dataframe tbody tr th:only-of-type {\n",
              "        vertical-align: middle;\n",
              "    }\n",
              "\n",
              "    .dataframe tbody tr th {\n",
              "        vertical-align: top;\n",
              "    }\n",
              "\n",
              "    .dataframe thead th {\n",
              "        text-align: right;\n",
              "    }\n",
              "</style>\n",
              "<table border=\"1\" class=\"dataframe\">\n",
              "  <thead>\n",
              "    <tr style=\"text-align: right;\">\n",
              "      <th></th>\n",
              "      <th>fixed acidity</th>\n",
              "      <th>volatile acidity</th>\n",
              "      <th>citric acid</th>\n",
              "      <th>residual sugar</th>\n",
              "      <th>chlorides</th>\n",
              "      <th>free sulfur dioxide</th>\n",
              "      <th>total sulfur dioxide</th>\n",
              "      <th>density</th>\n",
              "      <th>pH</th>\n",
              "      <th>sulphates</th>\n",
              "      <th>alcohol</th>\n",
              "    </tr>\n",
              "  </thead>\n",
              "  <tbody>\n",
              "    <tr>\n",
              "      <th>0</th>\n",
              "      <td>0.247788</td>\n",
              "      <td>0.397260</td>\n",
              "      <td>0.00</td>\n",
              "      <td>0.068493</td>\n",
              "      <td>0.106845</td>\n",
              "      <td>0.140845</td>\n",
              "      <td>0.098940</td>\n",
              "      <td>0.567548</td>\n",
              "      <td>0.606299</td>\n",
              "      <td>0.137725</td>\n",
              "      <td>0.153846</td>\n",
              "    </tr>\n",
              "    <tr>\n",
              "      <th>1</th>\n",
              "      <td>0.283186</td>\n",
              "      <td>0.520548</td>\n",
              "      <td>0.00</td>\n",
              "      <td>0.116438</td>\n",
              "      <td>0.143573</td>\n",
              "      <td>0.338028</td>\n",
              "      <td>0.215548</td>\n",
              "      <td>0.494126</td>\n",
              "      <td>0.362205</td>\n",
              "      <td>0.209581</td>\n",
              "      <td>0.215385</td>\n",
              "    </tr>\n",
              "    <tr>\n",
              "      <th>2</th>\n",
              "      <td>0.283186</td>\n",
              "      <td>0.438356</td>\n",
              "      <td>0.04</td>\n",
              "      <td>0.095890</td>\n",
              "      <td>0.133556</td>\n",
              "      <td>0.197183</td>\n",
              "      <td>0.169611</td>\n",
              "      <td>0.508811</td>\n",
              "      <td>0.409449</td>\n",
              "      <td>0.191617</td>\n",
              "      <td>0.215385</td>\n",
              "    </tr>\n",
              "    <tr>\n",
              "      <th>3</th>\n",
              "      <td>0.584071</td>\n",
              "      <td>0.109589</td>\n",
              "      <td>0.56</td>\n",
              "      <td>0.068493</td>\n",
              "      <td>0.105175</td>\n",
              "      <td>0.225352</td>\n",
              "      <td>0.190813</td>\n",
              "      <td>0.582232</td>\n",
              "      <td>0.330709</td>\n",
              "      <td>0.149701</td>\n",
              "      <td>0.215385</td>\n",
              "    </tr>\n",
              "    <tr>\n",
              "      <th>4</th>\n",
              "      <td>0.247788</td>\n",
              "      <td>0.397260</td>\n",
              "      <td>0.00</td>\n",
              "      <td>0.068493</td>\n",
              "      <td>0.106845</td>\n",
              "      <td>0.140845</td>\n",
              "      <td>0.098940</td>\n",
              "      <td>0.567548</td>\n",
              "      <td>0.606299</td>\n",
              "      <td>0.137725</td>\n",
              "      <td>0.153846</td>\n",
              "    </tr>\n",
              "    <tr>\n",
              "      <th>...</th>\n",
              "      <td>...</td>\n",
              "      <td>...</td>\n",
              "      <td>...</td>\n",
              "      <td>...</td>\n",
              "      <td>...</td>\n",
              "      <td>...</td>\n",
              "      <td>...</td>\n",
              "      <td>...</td>\n",
              "      <td>...</td>\n",
              "      <td>...</td>\n",
              "      <td>...</td>\n",
              "    </tr>\n",
              "    <tr>\n",
              "      <th>1594</th>\n",
              "      <td>0.141593</td>\n",
              "      <td>0.328767</td>\n",
              "      <td>0.08</td>\n",
              "      <td>0.075342</td>\n",
              "      <td>0.130217</td>\n",
              "      <td>0.436620</td>\n",
              "      <td>0.134276</td>\n",
              "      <td>0.354626</td>\n",
              "      <td>0.559055</td>\n",
              "      <td>0.149701</td>\n",
              "      <td>0.323077</td>\n",
              "    </tr>\n",
              "    <tr>\n",
              "      <th>1595</th>\n",
              "      <td>0.115044</td>\n",
              "      <td>0.294521</td>\n",
              "      <td>0.10</td>\n",
              "      <td>0.089041</td>\n",
              "      <td>0.083472</td>\n",
              "      <td>0.535211</td>\n",
              "      <td>0.159011</td>\n",
              "      <td>0.370778</td>\n",
              "      <td>0.614173</td>\n",
              "      <td>0.257485</td>\n",
              "      <td>0.430769</td>\n",
              "    </tr>\n",
              "    <tr>\n",
              "      <th>1596</th>\n",
              "      <td>0.150442</td>\n",
              "      <td>0.267123</td>\n",
              "      <td>0.13</td>\n",
              "      <td>0.095890</td>\n",
              "      <td>0.106845</td>\n",
              "      <td>0.394366</td>\n",
              "      <td>0.120141</td>\n",
              "      <td>0.416300</td>\n",
              "      <td>0.535433</td>\n",
              "      <td>0.251497</td>\n",
              "      <td>0.400000</td>\n",
              "    </tr>\n",
              "    <tr>\n",
              "      <th>1597</th>\n",
              "      <td>0.115044</td>\n",
              "      <td>0.359589</td>\n",
              "      <td>0.12</td>\n",
              "      <td>0.075342</td>\n",
              "      <td>0.105175</td>\n",
              "      <td>0.436620</td>\n",
              "      <td>0.134276</td>\n",
              "      <td>0.396476</td>\n",
              "      <td>0.653543</td>\n",
              "      <td>0.227545</td>\n",
              "      <td>0.276923</td>\n",
              "    </tr>\n",
              "    <tr>\n",
              "      <th>1598</th>\n",
              "      <td>0.123894</td>\n",
              "      <td>0.130137</td>\n",
              "      <td>0.47</td>\n",
              "      <td>0.184932</td>\n",
              "      <td>0.091820</td>\n",
              "      <td>0.239437</td>\n",
              "      <td>0.127208</td>\n",
              "      <td>0.397944</td>\n",
              "      <td>0.511811</td>\n",
              "      <td>0.197605</td>\n",
              "      <td>0.400000</td>\n",
              "    </tr>\n",
              "  </tbody>\n",
              "</table>\n",
              "<p>1599 rows × 11 columns</p>\n",
              "</div>"
            ],
            "text/plain": [
              "      fixed acidity  volatile acidity  ...  sulphates   alcohol\n",
              "0          0.247788          0.397260  ...   0.137725  0.153846\n",
              "1          0.283186          0.520548  ...   0.209581  0.215385\n",
              "2          0.283186          0.438356  ...   0.191617  0.215385\n",
              "3          0.584071          0.109589  ...   0.149701  0.215385\n",
              "4          0.247788          0.397260  ...   0.137725  0.153846\n",
              "...             ...               ...  ...        ...       ...\n",
              "1594       0.141593          0.328767  ...   0.149701  0.323077\n",
              "1595       0.115044          0.294521  ...   0.257485  0.430769\n",
              "1596       0.150442          0.267123  ...   0.251497  0.400000\n",
              "1597       0.115044          0.359589  ...   0.227545  0.276923\n",
              "1598       0.123894          0.130137  ...   0.197605  0.400000\n",
              "\n",
              "[1599 rows x 11 columns]"
            ]
          },
          "metadata": {
            "tags": []
          },
          "execution_count": 120
        }
      ]
    },
    {
      "cell_type": "code",
      "metadata": {
        "id": "pUNHL6zf2Gnp",
        "colab_type": "code",
        "colab": {
          "base_uri": "https://localhost:8080/",
          "height": 238
        },
        "outputId": "e16b7b5e-c663-4a1b-d8b1-b7c3700152d5"
      },
      "source": [
        "X_train, X_test, y_train, y_test = train_test_split(X_scaled, y, test_size=0.3)\n",
        "X_train.head(), y_test.head()"
      ],
      "execution_count": null,
      "outputs": [
        {
          "output_type": "execute_result",
          "data": {
            "text/plain": [
              "(      fixed acidity  volatile acidity  ...  sulphates   alcohol\n",
              " 1290       0.265487          0.424658  ...   0.155689  0.400000\n",
              " 1375       0.230088          0.301370  ...   0.113772  0.230769\n",
              " 1019       0.212389          0.260274  ...   0.167665  0.307692\n",
              " 508        0.477876          0.321918  ...   0.179641  0.276923\n",
              " 926        0.424779          0.082192  ...   0.341317  0.276923\n",
              " \n",
              " [5 rows x 11 columns], 892     6\n",
              " 300     6\n",
              " 171     6\n",
              " 1161    6\n",
              " 1390    6\n",
              " Name: quality, dtype: int64)"
            ]
          },
          "metadata": {
            "tags": []
          },
          "execution_count": 121
        }
      ]
    },
    {
      "cell_type": "code",
      "metadata": {
        "id": "Sv-M0zbh2i7U",
        "colab_type": "code",
        "colab": {
          "base_uri": "https://localhost:8080/",
          "height": 34
        },
        "outputId": "f38be7b8-5b19-45c0-82d2-40eff9ed3da3"
      },
      "source": [
        "model.fit(X_train, y_train)\n",
        "model.score(X_train, y_train)"
      ],
      "execution_count": null,
      "outputs": [
        {
          "output_type": "execute_result",
          "data": {
            "text/plain": [
              "0.7944593386952636"
            ]
          },
          "metadata": {
            "tags": []
          },
          "execution_count": 122
        }
      ]
    },
    {
      "cell_type": "code",
      "metadata": {
        "id": "S-jcbuwZ4JHt",
        "colab_type": "code",
        "colab": {}
      },
      "source": [
        "y_pred = model.predict(X_test)"
      ],
      "execution_count": null,
      "outputs": []
    },
    {
      "cell_type": "code",
      "metadata": {
        "id": "ATfP2fU_4SXJ",
        "colab_type": "code",
        "colab": {
          "base_uri": "https://localhost:8080/",
          "height": 34
        },
        "outputId": "6a788eb5-a796-42cc-98cc-8abfc45bc5e6"
      },
      "source": [
        "accuracy_score(y_test, y_pred)"
      ],
      "execution_count": null,
      "outputs": [
        {
          "output_type": "execute_result",
          "data": {
            "text/plain": [
              "0.56875"
            ]
          },
          "metadata": {
            "tags": []
          },
          "execution_count": 124
        }
      ]
    },
    {
      "cell_type": "code",
      "metadata": {
        "id": "bDsaknUq-05a",
        "colab_type": "code",
        "colab": {
          "base_uri": "https://localhost:8080/",
          "height": 34
        },
        "outputId": "40eb9c67-2715-487e-c1e4-ff852c946601"
      },
      "source": [
        "for i in range(10):\n",
        "  con_knn = []\n",
        "  model.fit(X_train, y_train)\n",
        "  model.score(X_train, y_train)\n",
        "  y_pred = model.predict(X_test)\n",
        "  con_knn.append(accuracy_score(y_test, y_pred))\n",
        "\n",
        "con_knn_np = np.array(con_knn)\n",
        "con_knn_np.mean()\n",
        "#สังเกตว่าค่าจะเป็นค่าคงที่ขึ้นกับtrain_test_split"
      ],
      "execution_count": null,
      "outputs": [
        {
          "output_type": "execute_result",
          "data": {
            "text/plain": [
              "0.56875"
            ]
          },
          "metadata": {
            "tags": []
          },
          "execution_count": 131
        }
      ]
    },
    {
      "cell_type": "markdown",
      "metadata": {
        "id": "CIzUADO-5rXf",
        "colab_type": "text"
      },
      "source": [
        "จบการนำเสนอ kNN normalized\n"
      ]
    },
    {
      "cell_type": "markdown",
      "metadata": {
        "id": "v0ERPy7d5zGs",
        "colab_type": "text"
      },
      "source": [
        "Logistic Normalized"
      ]
    },
    {
      "cell_type": "code",
      "metadata": {
        "id": "kXJpZWCF4oJJ",
        "colab_type": "code",
        "colab": {
          "base_uri": "https://localhost:8080/",
          "height": 34
        },
        "outputId": "0ba53359-0b76-4f9e-8513-2b4fb1ce0816"
      },
      "source": [
        "from sklearn.linear_model import LogisticRegression\n",
        "model_log = LogisticRegression()\n",
        "model_log.fit(X_train, y_train)\n",
        "y_pred_log = model_log.predict(X_test)\n",
        "accuracy_score(y_test,y_pred_log)"
      ],
      "execution_count": null,
      "outputs": [
        {
          "output_type": "execute_result",
          "data": {
            "text/plain": [
              "0.6041666666666666"
            ]
          },
          "metadata": {
            "tags": []
          },
          "execution_count": 125
        }
      ]
    },
    {
      "cell_type": "code",
      "metadata": {
        "id": "V5TuuoMZ-VaK",
        "colab_type": "code",
        "colab": {
          "base_uri": "https://localhost:8080/",
          "height": 34
        },
        "outputId": "7d3e86f9-dddd-4479-9158-4070b5652961"
      },
      "source": [
        "for i in range(10):\n",
        "  con_log = []\n",
        "  model_log = LogisticRegression()\n",
        "  model_log.fit(X_train, y_train)\n",
        "  y_pred_log = model_log.predict(X_test)\n",
        "  accuracy_score(y_test,y_pred_log)\n",
        "  con_log.append(acc)\n",
        "\n",
        "con_log_np = np.array(con_log)\n",
        "con_log_np.mean()\n"
      ],
      "execution_count": null,
      "outputs": [
        {
          "output_type": "execute_result",
          "data": {
            "text/plain": [
              "0.6833333333333333"
            ]
          },
          "metadata": {
            "tags": []
          },
          "execution_count": 128
        }
      ]
    },
    {
      "cell_type": "code",
      "metadata": {
        "id": "6MHpsIr17C67",
        "colab_type": "code",
        "colab": {
          "base_uri": "https://localhost:8080/",
          "height": 34
        },
        "outputId": "5b02c72e-1f66-4da1-d70d-740cbf075e0c"
      },
      "source": [
        "from sklearn.ensemble import RandomForestClassifier\n",
        "\n",
        "model_rfc = RandomForestClassifier(n_estimators=80)\n",
        "model_rfc.fit(X_train, y_train)\n",
        "y_pred_rfc = model_rfc.predict(X_test)\n",
        "accuracy_score(y_test, y_pred_rfc)"
      ],
      "execution_count": 132,
      "outputs": [
        {
          "output_type": "execute_result",
          "data": {
            "text/plain": [
              "0.6895833333333333"
            ]
          },
          "metadata": {
            "tags": []
          },
          "execution_count": 132
        }
      ]
    },
    {
      "cell_type": "code",
      "metadata": {
        "id": "tLM0S89s9Oly",
        "colab_type": "code",
        "colab": {
          "base_uri": "https://localhost:8080/",
          "height": 34
        },
        "outputId": "bc79a9d0-69bc-4788-e00a-f7745b0f4723"
      },
      "source": [
        "for i in range(10):\n",
        "  con_rfc = []\n",
        "  model_rfc = RandomForestClassifier(n_estimators=80)\n",
        "  model_rfc.fit(X_train, y_train)\n",
        "  y_pred_rfc = model_rfc.predict(X_test)\n",
        "  acc = accuracy_score(y_test, y_pred_rfc)\n",
        "  con_rfc.append(acc)\n",
        "\n",
        "con_rfc_np = np.array(con_rfc)\n",
        "con_rfc_np.mean()\n",
        "\n"
      ],
      "execution_count": null,
      "outputs": [
        {
          "output_type": "execute_result",
          "data": {
            "text/plain": [
              "0.6833333333333333"
            ]
          },
          "metadata": {
            "tags": []
          },
          "execution_count": 127
        }
      ]
    }
  ]
}